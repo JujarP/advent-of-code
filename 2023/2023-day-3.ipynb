{
 "cells": [
  {
   "cell_type": "code",
   "execution_count": 1,
   "metadata": {},
   "outputs": [],
   "source": [
    "puzzle_input = open(\"day-3-example.txt\", \"r\")\n",
    "puzzle_grid = []\n",
    "for line in puzzle_input:\n",
    "    puzzle_grid.append(line.strip())"
   ]
  },
  {
   "cell_type": "code",
   "execution_count": 8,
   "metadata": {},
   "outputs": [
    {
     "data": {
      "text/plain": [
       "['467..114..',\n",
       " '...*......',\n",
       " '..35..633.',\n",
       " '......#...',\n",
       " '617*......',\n",
       " '.....+.58.',\n",
       " '..592.....',\n",
       " '......755.',\n",
       " '...$.*....',\n",
       " '.664.598..']"
      ]
     },
     "execution_count": 8,
     "metadata": {},
     "output_type": "execute_result"
    }
   ],
   "source": [
    "puzzle_grid"
   ]
  },
  {
   "cell_type": "code",
   "execution_count": 28,
   "metadata": {},
   "outputs": [
    {
     "name": "stdout",
     "output_type": "stream",
     "text": [
      "[1, 3] *\n",
      "[3, 6] #\n",
      "[4, 3] *\n",
      "[5, 5] +\n",
      "[8, 3] $\n",
      "[8, 5] *\n"
     ]
    }
   ],
   "source": [
    "# Get symbol positions\n",
    "symbol_positions = []\n",
    "for row_no, line in enumerate(puzzle_grid):\n",
    "    for col_no, character in enumerate(line):\n",
    "        if character.isdigit() or character == \".\":\n",
    "            continue\n",
    "        print([row_no,col_no], character)\n",
    "        symbol_positions.append([row_no,col_no])"
   ]
  },
  {
   "cell_type": "code",
   "execution_count": 40,
   "metadata": {},
   "outputs": [],
   "source": [
    "# Create a box centered around each symbol\n",
    "\n",
    "symbol_positions = [[1, 3],[3, 6]]\n",
    "\n",
    "for coord in symbol_positions:\n",
    "    bounding_box = []\n",
    "    bounding_box.extend([\n",
    "        [coord[0]+1,coord[1]],\n",
    "        [coord[0]+1,coord[1]+1],\n",
    "        [coord[0]+1,coord[1]-1],\n",
    "        [coord[0]-1,coord[1]],\n",
    "        [coord[0]-1,coord[1]+1],\n",
    "        [coord[0]-1,coord[1]-1],\n",
    "        [coord[0],coord[1]+1],\n",
    "        [coord[0],coord[1]-1]]            \n",
    "    )"
   ]
  },
  {
   "cell_type": "code",
   "execution_count": 41,
   "metadata": {},
   "outputs": [
    {
     "data": {
      "text/plain": [
       "[[4, 6], [4, 7], [4, 5], [2, 6], [2, 7], [2, 5], [3, 7], [3, 5]]"
      ]
     },
     "execution_count": 41,
     "metadata": {},
     "output_type": "execute_result"
    }
   ],
   "source": [
    "bounding_box"
   ]
  },
  {
   "cell_type": "code",
   "execution_count": null,
   "metadata": {},
   "outputs": [],
   "source": []
  }
 ],
 "metadata": {
  "kernelspec": {
   "display_name": "base",
   "language": "python",
   "name": "python3"
  },
  "language_info": {
   "codemirror_mode": {
    "name": "ipython",
    "version": 3
   },
   "file_extension": ".py",
   "mimetype": "text/x-python",
   "name": "python",
   "nbconvert_exporter": "python",
   "pygments_lexer": "ipython3",
   "version": "3.11.5"
  }
 },
 "nbformat": 4,
 "nbformat_minor": 2
}
