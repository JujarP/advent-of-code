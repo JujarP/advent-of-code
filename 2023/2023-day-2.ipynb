{
 "cells": [
  {
   "cell_type": "markdown",
   "metadata": {},
   "source": [
    "### Advent of Code 2023 Day 2  \n",
    "https://adventofcode.com/2023/day/2"
   ]
  },
  {
   "cell_type": "markdown",
   "metadata": {},
   "source": [
    "--- Day 2: Cube Conundrum ---\n",
    "\n",
    "You're launched high into the atmosphere! The apex of your trajectory just barely reaches the surface of a large island floating in the sky. You gently land in a fluffy pile of leaves. It's quite cold, but you don't see much snow. An Elf runs over to greet you.\n",
    "\n",
    "The Elf explains that you've arrived at Snow Island and apologizes for the lack of snow. He'll be happy to explain the situation, but it's a bit of a walk, so you have some time. They don't get many visitors up here; would you like to play a game in the meantime?\n",
    "\n",
    "As you walk, the Elf shows you a small bag and some cubes which are either red, green, or blue. Each time you play this game, he will hide a secret number of cubes of each color in the bag, and your goal is to figure out information about the number of cubes.\n",
    "\n",
    "To get information, once a bag has been loaded with cubes, the Elf will reach into the bag, grab a handful of random cubes, show them to you, and then put them back in the bag. He'll do this a few times per game.\n",
    "\n",
    "You play several games and record the information from each game (your puzzle input). Each game is listed with its ID number (like the 11 in Game 11: ...) followed by a semicolon-separated list of subsets of cubes that were revealed from the bag (like 3 red, 5 green, 4 blue).\n",
    "\n",
    "For example, the record of a few games might look like this:\n",
    "\n",
    "Game 1: 3 blue, 4 red; 1 red, 2 green, 6 blue; 2 green  \n",
    "Game 2: 1 blue, 2 green; 3 green, 4 blue, 1 red; 1 green, 1 blue  \n",
    "Game 3: 8 green, 6 blue, 20 red; 5 blue, 4 red, 13 green; 5 green, 1 red  \n",
    "Game 4: 1 green, 3 red, 6 blue; 3 green, 6 red; 3 green, 15 blue, 14 red  \n",
    "Game 5: 6 red, 1 blue, 3 green; 2 blue, 1 red, 2 green  \n",
    "\n",
    "In game 1, three sets of cubes are revealed from the bag (and then put back again). The first set is 3 blue cubes and 4 red cubes; the second set is 1 red cube, 2 green cubes, and 6 blue cubes; the third set is only 2 green cubes.\n",
    "\n",
    "The Elf would first like to know which games would have been possible if the bag contained only 12 red cubes, 13 green cubes, and 14 blue cubes?\n",
    "\n",
    "In the example above, games 1, 2, and 5 would have been possible if the bag had been loaded with that configuration.  \n",
    "However, game 3 would have been impossible because at one point the Elf showed you 20 red cubes at once; similarly, game 4 would also have been impossible because the Elf showed you 15 blue cubes at once. If you add up the IDs of the games that would have been possible, you get 8.\n",
    "\n",
    "Determine which games would have been possible if the bag had been loaded with only 12 red cubes, 13 green cubes, and 14 blue cubes. What is the sum of the IDs of those games?"
   ]
  },
  {
   "cell_type": "code",
   "execution_count": 67,
   "metadata": {},
   "outputs": [],
   "source": [
    "# Try the example first"
   ]
  },
  {
   "cell_type": "code",
   "execution_count": 88,
   "metadata": {},
   "outputs": [],
   "source": [
    "# Load file\n",
    "puzzle_input = open(\"day-2-puzzle-input.txt\", \"r\")\n",
    "game_list = []\n",
    "for line in puzzle_input:\n",
    "    game_list.append(line.strip())"
   ]
  },
  {
   "cell_type": "code",
   "execution_count": null,
   "metadata": {},
   "outputs": [],
   "source": [
    "game_list"
   ]
  },
  {
   "cell_type": "code",
   "execution_count": 93,
   "metadata": {},
   "outputs": [],
   "source": [
    "def winning_games(game_list, num_red, num_green, num_blue):\n",
    "\n",
    "    \"\"\"Determines which games in Advent of Code day 2 part 1 would be possible, and calulcates the sum of those games.\n",
    "\n",
    "    Args:\n",
    "        game_list (list): list of games played and their outcome.\n",
    "        num_red (int): which games would have been possible if the bag contained only x red cubes?\n",
    "        num_green (int): which games would have been possible if the bag contained only y green cubes?\n",
    "        num_blue (int): which games would have been possible if the bag contained only z blue cubes?\n",
    "\n",
    "    Returns:\n",
    "        sum(integer_game) (int): sum of the IDs of the winning games.\n",
    "    \"\"\"\n",
    "\n",
    "    # Error handling\n",
    "    if not isinstance(game_list, list):\n",
    "        raise TypeError(\n",
    "            f\"Expected a list, got {type(game_list).__name__}\"\n",
    "        )\n",
    "    \n",
    "    if not all(isinstance(i, int) for i in (num_red, num_green, num_blue)):\n",
    "        raise TypeError(\n",
    "            f\"Expected integers for num_red, num_green, and num_blue, got: \"\n",
    "            f\"{type(num_red).__name__}, {type(num_green).__name__}, {type(num_blue).__name__}\"\n",
    "        )\n",
    "    \n",
    "    # Program\n",
    "    winning_game = []\n",
    "    integer_game = []\n",
    "    for game in game_list:\n",
    "\n",
    "        my_result = []\n",
    "\n",
    "        # Split each game\n",
    "        part1 = game.split(\": \")[0]\n",
    "        part2 = game.split(\": \")[1]\n",
    "        part2 = part2.replace(\";\",\",\")\n",
    "        part2 = part2.split(\", \")\n",
    "\n",
    "        # Dictionary of games\n",
    "        for idx, x in enumerate(part2):\n",
    "            result = x.split(\" \")\n",
    "            my_dict = {result[1]:result[0]}\n",
    "            my_result.append(my_dict)\n",
    "        \n",
    "        # Put cubes into colour categories\n",
    "        red = []\n",
    "        green = []\n",
    "        blue = []\n",
    "        for x in my_result:\n",
    "            for key, val in x.items():\n",
    "                if key == \"red\":\n",
    "                    red.append(int(val))\n",
    "                elif key == \"green\":\n",
    "                    green.append(int(val))\n",
    "                else:\n",
    "                    blue.append(int(val))\n",
    "        \n",
    "        # Find winning games\n",
    "        my_sol_red = all(i <= num_red for i in red)\n",
    "        my_sol_green = all(i <= num_green for i in green)\n",
    "        my_sol_blue = all(i <= num_blue for i in blue)\n",
    "        game_result = [my_sol_red, my_sol_green, my_sol_blue]\n",
    "\n",
    "        # Determine winning game\n",
    "        if all(game_result) == True:\n",
    "            winning_game.append(part1)\n",
    "    \n",
    "    # Add integers in winning game list\n",
    "    for game in winning_game:\n",
    "        s = \"\".join(x for x in game if x.isdigit())\n",
    "        integer_game.append(int(s))\n",
    "        \n",
    "    return sum(integer_game)"
   ]
  },
  {
   "cell_type": "code",
   "execution_count": 98,
   "metadata": {},
   "outputs": [],
   "source": [
    "ans = winning_games(game_list, 12, 13, 14)"
   ]
  },
  {
   "cell_type": "code",
   "execution_count": null,
   "metadata": {},
   "outputs": [],
   "source": [
    "ans"
   ]
  },
  {
   "cell_type": "markdown",
   "metadata": {},
   "source": [
    "--- Part Two ---\n",
    "\n",
    "The Elf says they've stopped producing snow because they aren't getting any water! He isn't sure why the water stopped; however, he can show you how to get to the water source to check it out for yourself. It's just up ahead!\n",
    "\n",
    "As you continue your walk, the Elf poses a second question: in each game you played, what is the fewest number of cubes of each color that could have been in the bag to make the game possible?\n",
    "\n",
    "Again consider the example games from earlier:\n",
    "\n",
    "Game 1: 3 blue, 4 red; 1 red, 2 green, 6 blue; 2 green  \n",
    "Game 2: 1 blue, 2 green; 3 green, 4 blue, 1 red; 1 green, 1 blue  \n",
    "Game 3: 8 green, 6 blue, 20 red; 5 blue, 4 red, 13 green; 5 green, 1 red  \n",
    "Game 4: 1 green, 3 red, 6 blue; 3 green, 6 red; 3 green, 15 blue, 14 red  \n",
    "Game 5: 6 red, 1 blue, 3 green; 2 blue, 1 red, 2 green  \n",
    "\n",
    "In game 1, the game could have been played with as few as 4 red, 2 green, and 6 blue cubes. If any color had even one fewer cube, the game would have been impossible.\n",
    "\n",
    "Game 2 could have been played with a minimum of 1 red, 3 green, and 4 blue cubes.  \n",
    "Game 3 must have been played with at least 20 red, 13 green, and 6 blue cubes.  \n",
    "Game 4 required at least 14 red, 3 green, and 15 blue cubes.  \n",
    "Game 5 needed no fewer than 6 red, 3 green, and 2 blue cubes in the bag.  \n",
    "\n",
    "The power of a set of cubes is equal to the numbers of red, green, and blue cubes multiplied together.  \n",
    "The power of the minimum set of cubes in game 1 is 48. In games 2-5 it was 12, 1560, 630, and 36, respectively. Adding up these five powers produces the sum 2286.\n",
    "\n",
    "For each game, find the minimum set of cubes that must have been present. What is the sum of the power of these sets?"
   ]
  },
  {
   "cell_type": "code",
   "execution_count": 99,
   "metadata": {},
   "outputs": [],
   "source": [
    "def minimum_set(game_list):\n",
    "\n",
    "    \"\"\"Determines which games in Advent of Code day 2 part 2 are possible.\n",
    "    Calculates the fewest number of cubes of each color that could have been in the bag to make the game possible.\n",
    "\n",
    "    Args:\n",
    "        game_list (list): list of games played and their outcome.\n",
    "\n",
    "    Returns:\n",
    "        sum(list_of_powers) (int): sum of the powers for each game.\n",
    "    \"\"\"\n",
    "\n",
    "    # Error handling\n",
    "    if not isinstance(game_list, list):\n",
    "        raise TypeError(\n",
    "            f\"Expected a list, got {type(game_list).__name__}\"\n",
    "        )\n",
    "    \n",
    "    list_of_powers = []\n",
    "    for game in game_list:\n",
    "\n",
    "        my_result = []\n",
    "\n",
    "        # Split each game\n",
    "        part1 = game.split(\": \")[0]\n",
    "        part2 = game.split(\": \")[1]\n",
    "        part2 = part2.replace(\";\",\",\")\n",
    "        part2 = part2.split(\", \")\n",
    "\n",
    "        # Dictionary of games\n",
    "        for idx, x in enumerate(part2):\n",
    "            result = x.split(\" \")\n",
    "            my_dict = {result[1]:result[0]}\n",
    "            my_result.append(my_dict)\n",
    "        \n",
    "        # Put cubes into colour categories\n",
    "        red = []\n",
    "        green = []\n",
    "        blue = []\n",
    "        for x in my_result:\n",
    "            for key, val in x.items():\n",
    "                if key == \"red\":\n",
    "                    red.append(int(val))\n",
    "                elif key == \"green\":\n",
    "                    green.append(int(val))\n",
    "                else:\n",
    "                    blue.append(int(val))\n",
    "        \n",
    "        power = max(red) * max(green) * max(blue)\n",
    "        list_of_powers.append(power)\n",
    "        \n",
    "    return sum(list_of_powers)"
   ]
  },
  {
   "cell_type": "code",
   "execution_count": 101,
   "metadata": {},
   "outputs": [],
   "source": [
    "ans = minimum_set(game_list)"
   ]
  },
  {
   "cell_type": "code",
   "execution_count": null,
   "metadata": {},
   "outputs": [],
   "source": [
    "ans"
   ]
  },
  {
   "cell_type": "code",
   "execution_count": null,
   "metadata": {},
   "outputs": [],
   "source": []
  }
 ],
 "metadata": {
  "kernelspec": {
   "display_name": "base",
   "language": "python",
   "name": "python3"
  },
  "language_info": {
   "codemirror_mode": {
    "name": "ipython",
    "version": 3
   },
   "file_extension": ".py",
   "mimetype": "text/x-python",
   "name": "python",
   "nbconvert_exporter": "python",
   "pygments_lexer": "ipython3",
   "version": "3.11.5"
  }
 },
 "nbformat": 4,
 "nbformat_minor": 2
}
