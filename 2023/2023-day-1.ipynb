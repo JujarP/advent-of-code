{
 "cells": [
  {
   "cell_type": "markdown",
   "metadata": {},
   "source": [
    "### Advent of Code 2023 Day 1  \n",
    "https://adventofcode.com/2023/day/1"
   ]
  },
  {
   "cell_type": "markdown",
   "metadata": {},
   "source": [
    "--- Day 1: Trebuchet?! ---  \n",
    "Something is wrong with global snow production, and you've been selected to take a look. The Elves have even given you a map; on it, they've used stars to mark the top fifty locations that are likely to be having problems.\n",
    "\n",
    "You've been doing this long enough to know that to restore snow operations, you need to check all fifty stars by December 25th.\n",
    "\n",
    "Collect stars by solving puzzles. Two puzzles will be made available on each day in the Advent calendar; the second puzzle is unlocked when you complete the first. Each puzzle grants one star. Good luck!\n",
    "\n",
    "You try to ask why they can't just use a weather machine (\"not powerful enough\") and where they're even sending you (\"the sky\") and why your map looks mostly blank (\"you sure ask a lot of questions\") and hang on did you just say the sky (\"of course, where do you think snow comes from\") when you realize that the Elves are already loading you into a trebuchet (\"please hold still, we need to strap you in\").\n",
    "\n",
    "As they're making the final adjustments, they discover that their calibration document (your puzzle input) has been amended by a very young Elf who was apparently just excited to show off her art skills. Consequently, the Elves are having trouble reading the values on the document.\n",
    "\n",
    "The newly-improved calibration document consists of lines of text; each line originally contained a specific calibration value that the Elves now need to recover. On each line, the calibration value can be found by combining the first digit and the last digit (in that order) to form a single two-digit number.\n",
    "\n",
    "For example:\n",
    "\n",
    "1abc2  \n",
    "pqr3stu8vwx  \n",
    "a1b2c3d4e5f  \n",
    "treb7uchet  \n",
    "\n",
    "In this example, the calibration values of these four lines are 12, 38, 15, and 77. Adding these together produces 142.\n",
    "\n",
    "Consider your entire calibration document. What is the sum of all of the calibration values?"
   ]
  },
  {
   "cell_type": "code",
   "execution_count": 156,
   "metadata": {},
   "outputs": [],
   "source": [
    "# Read calibration document\n",
    "calibration_doc = open(\"calibration-document.txt\", \"r\")\n",
    "calibration_list = []\n",
    "for item in calibration_doc:\n",
    "    calibration_list.append(str(item))"
   ]
  },
  {
   "cell_type": "code",
   "execution_count": 166,
   "metadata": {},
   "outputs": [],
   "source": [
    "def calibration_values(calibration_list: list) -> list:\n",
    "\n",
    "    \"\"\"\n",
    "    Outputs a list of integers from a list of strings containing characters and integers.\n",
    "    E.g. String \"1abc2\" would yield a list [1, 2].\n",
    "    \n",
    "    Arguments\n",
    "        calibration_list (list): calibration list.\n",
    "    \n",
    "    Returns\n",
    "        placeholder (list): list of integers.\n",
    "    \"\"\"\n",
    "\n",
    "    # Error handling\n",
    "    if not isinstance(calibration_list, list):\n",
    "        raise TypeError(\n",
    "            f\"Expected a list, got {type(calibration_list).__name__}\"\n",
    "        )\n",
    "\n",
    "    # Create a list of lists for the integers\n",
    "    placeholder = []\n",
    "    for item in calibration_list:\n",
    "        item = str(item)\n",
    "        new_list = []\n",
    "        for x in item:\n",
    "            if x.isdigit():\n",
    "                my_int = int(x)\n",
    "                new_list.append(my_int)\n",
    "        placeholder.append(new_list)\n",
    "    \n",
    "    return placeholder"
   ]
  },
  {
   "cell_type": "code",
   "execution_count": 167,
   "metadata": {},
   "outputs": [],
   "source": [
    "def determine_calibration_value(integer_list: list) -> int:\n",
    "\n",
    "    \"\"\"\n",
    "    Outputs the first and last digit in a list of integers as a single double digit integer.\n",
    "    E.g. [6, 7, 8] returns 68 and [5] returns 55.\n",
    "    \n",
    "    Arguments\n",
    "        integer_list (lst): list of integers\n",
    "    \n",
    "    Returns\n",
    "        my_value (int): combination of the first and last digit in a string.\n",
    "    \"\"\"\n",
    "\n",
    "    # Error handling\n",
    "    if not isinstance(integer_list, list):\n",
    "        raise TypeError(\n",
    "            f\"Expected a list, got {type(integer_list).__main__}\"\n",
    "        )\n",
    "\n",
    "    placeholder = []\n",
    "    for item in integer_list:\n",
    "        int_len = len(item)\n",
    "        for x in item:\n",
    "            if int_len == 1:\n",
    "                first_digit = item[0]\n",
    "                my_value = \"{}{}\".format(first_digit, first_digit)\n",
    "                my_value = int(my_value)\n",
    "                break\n",
    "            else:\n",
    "                first_digit = item[0]\n",
    "                last_digit = item[len(item)-1]\n",
    "                my_value = \"{}{}\".format(first_digit, last_digit)\n",
    "                my_value = int(my_value)\n",
    "                break\n",
    "        placeholder.append(my_value)\n",
    "\n",
    "    return sum(placeholder)"
   ]
  },
  {
   "cell_type": "code",
   "execution_count": 168,
   "metadata": {},
   "outputs": [],
   "source": [
    "my_list = calibration_values(calibration_list)"
   ]
  },
  {
   "cell_type": "code",
   "execution_count": 169,
   "metadata": {},
   "outputs": [],
   "source": [
    "answer = determine_calibration_value(my_list)"
   ]
  },
  {
   "cell_type": "code",
   "execution_count": 170,
   "metadata": {},
   "outputs": [
    {
     "data": {
      "text/plain": [
       "56042"
      ]
     },
     "execution_count": 170,
     "metadata": {},
     "output_type": "execute_result"
    }
   ],
   "source": [
    "answer"
   ]
  },
  {
   "cell_type": "code",
   "execution_count": null,
   "metadata": {},
   "outputs": [],
   "source": []
  }
 ],
 "metadata": {
  "kernelspec": {
   "display_name": "base",
   "language": "python",
   "name": "python3"
  },
  "language_info": {
   "codemirror_mode": {
    "name": "ipython",
    "version": 3
   },
   "file_extension": ".py",
   "mimetype": "text/x-python",
   "name": "python",
   "nbconvert_exporter": "python",
   "pygments_lexer": "ipython3",
   "version": "3.11.5"
  }
 },
 "nbformat": 4,
 "nbformat_minor": 2
}
